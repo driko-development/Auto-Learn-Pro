{
  "nbformat": 4,
  "nbformat_minor": 0,
  "metadata": {
    "colab": {
      "name": "Untitled",
      "provenance": [],
      "authorship_tag": "ABX9TyN1fMIw661YUGrw9XYFjBoz",
      "include_colab_link": true
    },
    "kernelspec": {
      "name": "python3",
      "display_name": "Python 3"
    }
  },
  "cells": [
    {
      "cell_type": "markdown",
      "metadata": {
        "id": "view-in-github",
        "colab_type": "text"
      },
      "source": [
        "<a href=\"https://colab.research.google.com/github/willpanderson/Auto-Learn/blob/master/improved_model.ipynb\" target=\"_parent\"><img src=\"https://colab.research.google.com/assets/colab-badge.svg\" alt=\"Open In Colab\"/></a>"
      ]
    },
    {
      "cell_type": "code",
      "metadata": {
        "id": "S4TSmAiXh0Yn",
        "colab_type": "code",
        "colab": {}
      },
      "source": [
        "from __future__ import absolute_import, division, print_function, unicode_literals\n",
        "import matplotlib.pylab as plt\n",
        "import tensorflow as tf\n",
        "from tensorflow.keras.models import Sequential\n",
        "from tensorflow.keras.layers import Dense, Conv2D, Flatten, Dropout, MaxPooling2D\n",
        "from tensorflow.keras.preprocessing.image import ImageDataGenerator\n",
        "import tensorflow_hub as hub\n",
        "import numpy as np\n",
        "import pandas as pd"
      ],
      "execution_count": 0,
      "outputs": []
    },
    {
      "cell_type": "code",
      "metadata": {
        "id": "EOVj2RM4iAWd",
        "colab_type": "code",
        "colab": {}
      },
      "source": [
        "pd.set_option(\"display.precision\", 8)"
      ],
      "execution_count": 0,
      "outputs": []
    },
    {
      "cell_type": "code",
      "metadata": {
        "id": "_szJD1v5iEZm",
        "colab_type": "code",
        "outputId": "00ee37db-593a-4e9f-fa33-6b283ccaff0d",
        "colab": {
          "base_uri": "https://localhost:8080/",
          "height": 122
        }
      },
      "source": [
        "from google.colab import drive\n",
        "drive.mount('/content/drive')"
      ],
      "execution_count": 0,
      "outputs": [
        {
          "output_type": "stream",
          "text": [
            "Go to this URL in a browser: https://accounts.google.com/o/oauth2/auth?client_id=947318989803-6bn6qk8qdgf4n4g3pfee6491hc0brc4i.apps.googleusercontent.com&redirect_uri=urn%3aietf%3awg%3aoauth%3a2.0%3aoob&response_type=code&scope=email%20https%3a%2f%2fwww.googleapis.com%2fauth%2fdocs.test%20https%3a%2f%2fwww.googleapis.com%2fauth%2fdrive%20https%3a%2f%2fwww.googleapis.com%2fauth%2fdrive.photos.readonly%20https%3a%2f%2fwww.googleapis.com%2fauth%2fpeopleapi.readonly\n",
            "\n",
            "Enter your authorization code:\n",
            "··········\n",
            "Mounted at /content/drive\n"
          ],
          "name": "stdout"
        }
      ]
    },
    {
      "cell_type": "code",
      "metadata": {
        "id": "mbXxKz7IjHL1",
        "colab_type": "code",
        "colab": {}
      },
      "source": [
        "data_root='/content/drive/My Drive/TFLITE/car_images'"
      ],
      "execution_count": 0,
      "outputs": []
    },
    {
      "cell_type": "code",
      "metadata": {
        "id": "odAs-5BskfoQ",
        "colab_type": "code",
        "outputId": "e569c155-d2ee-4463-f8e7-20faca1ad368",
        "colab": {
          "base_uri": "https://localhost:8080/",
          "height": 68
        }
      },
      "source": [
        "IMAGE_SHAPE = (224, 224)\n",
        "TRAINING_DATA_DIR = str(data_root)\n",
        "print(TRAINING_DATA_DIR);\n",
        "datagen_kwargs = dict(rescale=1./255, validation_split=.20)\n",
        "valid_datagen = tf.keras.preprocessing.image.ImageDataGenerator(**datagen_kwargs)\n",
        "valid_generator = valid_datagen.flow_from_directory(\n",
        "TRAINING_DATA_DIR,\n",
        "subset=\"validation\",\n",
        "shuffle=True,\n",
        "target_size=IMAGE_SHAPE\n",
        ")\n",
        "train_datagen = tf.keras.preprocessing.image.ImageDataGenerator(**datagen_kwargs)\n",
        "train_generator = train_datagen.flow_from_directory(\n",
        "TRAINING_DATA_DIR,\n",
        "subset=\"training\",\n",
        "shuffle=True,\n",
        "target_size=IMAGE_SHAPE)"
      ],
      "execution_count": 62,
      "outputs": [
        {
          "output_type": "stream",
          "text": [
            "/content/drive/My Drive/TFLITE/car_images\n",
            "Found 203 images belonging to 6 classes.\n",
            "Found 824 images belonging to 6 classes.\n"
          ],
          "name": "stdout"
        }
      ]
    },
    {
      "cell_type": "code",
      "metadata": {
        "id": "mUXK84-okm8u",
        "colab_type": "code",
        "outputId": "3aea14ff-9e31-463f-d06c-ab5587dd1cce",
        "colab": {
          "base_uri": "https://localhost:8080/",
          "height": 68
        }
      },
      "source": [
        "image_batch_train, label_batch_train = next(iter(train_generator))\n",
        "print(\"Image batch shape: \", image_batch_train.shape)\n",
        "print(\"Label batch shape: \", label_batch_train.shape)\n",
        "dataset_labels = sorted(train_generator.class_indices.items(), key=lambda pair:pair[1])\n",
        "dataset_labels = np.array([key.title() for key, value in dataset_labels])\n",
        "print(dataset_labels)"
      ],
      "execution_count": 66,
      "outputs": [
        {
          "output_type": "stream",
          "text": [
            "Image batch shape:  (32, 224, 224, 3)\n",
            "Label batch shape:  (32, 6)\n",
            "['Convertible' 'Coupe' 'Sedan' 'Suv' 'Truck' 'Van']\n"
          ],
          "name": "stdout"
        }
      ]
    },
    {
      "cell_type": "code",
      "metadata": {
        "id": "OHGajcsakuRl",
        "colab_type": "code",
        "outputId": "8ef35d7f-9e96-4f3a-846b-8c13f50de6c6",
        "colab": {
          "base_uri": "https://localhost:8080/",
          "height": 255
        }
      },
      "source": [
        "model = tf.keras.Sequential([\n",
        "hub.KerasLayer(\"https://tfhub.dev/google/tf2-preview/mobilenet_v2/feature_vector/4\",\n",
        "output_shape=[1280],\n",
        "trainable=False),\n",
        "tf.keras.layers.Dropout(0.4),\n",
        "tf.keras.layers.Dense(train_generator.num_classes, activation='softmax')\n",
        "])\n",
        "\n",
        "model.build([None, 224, 224, 3])\n",
        "model.summary()\n",
        "model.compile(\n",
        "optimizer=tf.keras.optimizers.Adam(),\n",
        "loss='categorical_crossentropy',\n",
        "metrics=['acc'])"
      ],
      "execution_count": 69,
      "outputs": [
        {
          "output_type": "stream",
          "text": [
            "Model: \"sequential_9\"\n",
            "_________________________________________________________________\n",
            "Layer (type)                 Output Shape              Param #   \n",
            "=================================================================\n",
            "keras_layer_1 (KerasLayer)   multiple                  2257984   \n",
            "_________________________________________________________________\n",
            "dropout_1 (Dropout)          multiple                  0         \n",
            "_________________________________________________________________\n",
            "dense_17 (Dense)             multiple                  7686      \n",
            "=================================================================\n",
            "Total params: 2,265,670\n",
            "Trainable params: 7,686\n",
            "Non-trainable params: 2,257,984\n",
            "_________________________________________________________________\n"
          ],
          "name": "stdout"
        }
      ]
    },
    {
      "cell_type": "code",
      "metadata": {
        "id": "N_MA_Qkmky4A",
        "colab_type": "code",
        "outputId": "847438c7-a11f-42e1-83f4-0e0975956b06",
        "colab": {
          "base_uri": "https://localhost:8080/",
          "height": 561
        }
      },
      "source": [
        "steps_per_epoch = np.ceil(train_generator.samples/train_generator.batch_size)\n",
        "val_steps_per_epoch = np.ceil(valid_generator.samples/valid_generator.batch_size)\n",
        "hist = model.fit(\n",
        "train_generator,\n",
        "epochs=15,\n",
        "verbose=1,\n",
        "steps_per_epoch=steps_per_epoch,\n",
        "validation_data=valid_generator,\n",
        "validation_steps=val_steps_per_epoch).history"
      ],
      "execution_count": 70,
      "outputs": [
        {
          "output_type": "stream",
          "text": [
            "Epoch 1/15\n",
            "11/26 [===========>..................] - ETA: 15s - loss: 1.8487 - acc: 0.2500"
          ],
          "name": "stdout"
        },
        {
          "output_type": "stream",
          "text": [
            "/usr/local/lib/python3.6/dist-packages/PIL/Image.py:932: UserWarning: Palette images with Transparency expressed in bytes should be converted to RGBA images\n",
            "  \"Palette images with Transparency expressed in bytes should be \"\n"
          ],
          "name": "stderr"
        },
        {
          "output_type": "stream",
          "text": [
            "26/26 [==============================] - 38s 1s/step - loss: 1.5656 - acc: 0.3908 - val_loss: 0.9195 - val_acc: 0.7291\n",
            "Epoch 2/15\n",
            "26/26 [==============================] - 37s 1s/step - loss: 0.8663 - acc: 0.6833 - val_loss: 0.6698 - val_acc: 0.8079\n",
            "Epoch 3/15\n",
            "26/26 [==============================] - 38s 1s/step - loss: 0.6304 - acc: 0.7925 - val_loss: 0.4803 - val_acc: 0.8670\n",
            "Epoch 4/15\n",
            "26/26 [==============================] - 38s 1s/step - loss: 0.5228 - acc: 0.8301 - val_loss: 0.4439 - val_acc: 0.8571\n",
            "Epoch 5/15\n",
            "26/26 [==============================] - 38s 1s/step - loss: 0.4846 - acc: 0.8386 - val_loss: 0.3858 - val_acc: 0.8916\n",
            "Epoch 6/15\n",
            "26/26 [==============================] - 38s 1s/step - loss: 0.4009 - acc: 0.8677 - val_loss: 0.3589 - val_acc: 0.8966\n",
            "Epoch 7/15\n",
            "26/26 [==============================] - 38s 1s/step - loss: 0.3848 - acc: 0.8835 - val_loss: 0.3583 - val_acc: 0.8867\n",
            "Epoch 8/15\n",
            "26/26 [==============================] - 38s 1s/step - loss: 0.3467 - acc: 0.8859 - val_loss: 0.3155 - val_acc: 0.9064\n",
            "Epoch 9/15\n",
            "26/26 [==============================] - 39s 1s/step - loss: 0.3151 - acc: 0.9078 - val_loss: 0.3020 - val_acc: 0.8768\n",
            "Epoch 10/15\n",
            "26/26 [==============================] - 39s 1s/step - loss: 0.2688 - acc: 0.9357 - val_loss: 0.2792 - val_acc: 0.9015\n",
            "Epoch 11/15\n",
            "26/26 [==============================] - 39s 1s/step - loss: 0.2717 - acc: 0.9187 - val_loss: 0.2527 - val_acc: 0.9310\n",
            "Epoch 12/15\n",
            "26/26 [==============================] - 39s 1s/step - loss: 0.2363 - acc: 0.9345 - val_loss: 0.2597 - val_acc: 0.9212\n",
            "Epoch 13/15\n",
            "26/26 [==============================] - 41s 2s/step - loss: 0.2210 - acc: 0.9308 - val_loss: 0.2608 - val_acc: 0.9261\n",
            "Epoch 14/15\n",
            "26/26 [==============================] - 39s 1s/step - loss: 0.2334 - acc: 0.9284 - val_loss: 0.2464 - val_acc: 0.9113\n",
            "Epoch 15/15\n",
            "26/26 [==============================] - 38s 1s/step - loss: 0.2042 - acc: 0.9454 - val_loss: 0.2516 - val_acc: 0.9113\n"
          ],
          "name": "stdout"
        }
      ]
    },
    {
      "cell_type": "code",
      "metadata": {
        "id": "MYbEDM4PoZfl",
        "colab_type": "code",
        "colab": {
          "base_uri": "https://localhost:8080/",
          "height": 214
        },
        "outputId": "f6e37d9c-4265-4ce9-fb80-d5fcffb68820"
      },
      "source": [
        ""
      ],
      "execution_count": 40,
      "outputs": [
        {
          "output_type": "error",
          "ename": "AttributeError",
          "evalue": "ignored",
          "traceback": [
            "\u001b[0;31m---------------------------------------------------------------------------\u001b[0m",
            "\u001b[0;31mAttributeError\u001b[0m                            Traceback (most recent call last)",
            "\u001b[0;32m<ipython-input-40-741704397b17>\u001b[0m in \u001b[0;36m<module>\u001b[0;34m()\u001b[0m\n\u001b[1;32m      1\u001b[0m \u001b[0mCAR_SAVED_MODEL\u001b[0m \u001b[0;34m=\u001b[0m \u001b[0;34m\"saved_models/car\"\u001b[0m\u001b[0;34m\u001b[0m\u001b[0;34m\u001b[0m\u001b[0m\n\u001b[1;32m      2\u001b[0m \u001b[0;31m#tf.keras.export_saved_model(model, CAR_SAVED_MODEL)\u001b[0m\u001b[0;34m\u001b[0m\u001b[0;34m\u001b[0m\u001b[0;34m\u001b[0m\u001b[0m\n\u001b[0;32m----> 3\u001b[0;31m car_model = tf.experimental.load_from_saved_model(CAR_SAVED_MODEL,\n\u001b[0m\u001b[1;32m      4\u001b[0m custom_objects={'KerasLayer':hub.KerasLayer})\n",
            "\u001b[0;31mAttributeError\u001b[0m: module 'tensorflow._api.v2.experimental' has no attribute 'load_from_saved_model'"
          ]
        }
      ]
    },
    {
      "cell_type": "code",
      "metadata": {
        "id": "GkoB7wdBp3Hi",
        "colab_type": "code",
        "colab": {}
      },
      "source": [
        ""
      ],
      "execution_count": 0,
      "outputs": []
    }
  ]
}